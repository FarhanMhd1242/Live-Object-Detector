{
 "cells": [
  {
   "cell_type": "code",
   "execution_count": 1,
   "id": "ea94bf6c",
   "metadata": {},
   "outputs": [],
   "source": [
    "import cv2\n",
    "import numpy as np\n",
    "import matplotlib.pyplot as plt\n",
    "import time"
   ]
  },
  {
   "cell_type": "code",
   "execution_count": 2,
   "id": "ed41a0e2",
   "metadata": {},
   "outputs": [],
   "source": [
    "yolo = cv2.dnn.readNet(\"./yolov3.weights\", \"./yolov3.cfg\")"
   ]
  },
  {
   "cell_type": "code",
   "execution_count": 3,
   "id": "b63c65b3",
   "metadata": {},
   "outputs": [
    {
     "data": {
      "text/plain": [
       "80"
      ]
     },
     "execution_count": 3,
     "metadata": {},
     "output_type": "execute_result"
    }
   ],
   "source": [
    "classes = []\n",
    "\n",
    "with open(\"./coco.names\", 'r') as f:\n",
    "    classes = f.read().splitlines()\n",
    "len(classes)"
   ]
  },
  {
   "cell_type": "code",
   "execution_count": 4,
   "id": "6f783a7f",
   "metadata": {},
   "outputs": [],
   "source": [
    "cap = cv2.VideoCapture(0) \n",
    "\n",
    "starting_time = time.time()\n",
    "frame_id = 0\n",
    "while True:\n",
    "    _, frame = cap.read()\n",
    "    frame_id += 1\n",
    "    \n",
    "    height,width,channels = frame.shape\n",
    "    \n",
    "    blob = cv2.dnn.blobFromImage(frame, 1/255, (320,320), (0,0,0), swapRB = True, crop = False)\n",
    "    yolo.setInput(blob)\n",
    "    \n",
    "    output_layer_names = yolo.getLayerNames()\n",
    "    output_layers = [output_layer_names[i[0] - 1] for i in yolo.getUnconnectedOutLayers()]\n",
    "    layer_output = yolo.forward(output_layers)\n",
    "    \n",
    "    boxes = []\n",
    "    confidences = []\n",
    "    class_Ids = []\n",
    "\n",
    "    for output in layer_output:\n",
    "        for detection in output:\n",
    "            score = detection[5:]\n",
    "            class_id = np.argmax(score)\n",
    "            confidence = score[class_id]\n",
    "            if confidence > 0.5:\n",
    "                center_x = int(detection[0]*width)\n",
    "                center_y = int(detection[1]*height)\n",
    "                w = int(detection[2]*width)\n",
    "                h = int(detection[3]*height)\n",
    "             \n",
    "                #rectangle coordinates\n",
    "                x = int(center_x - w /2)\n",
    "                y = int(center_y - h /2)\n",
    "            \n",
    "                #cv2.rectangle(image, (x, y), (x+w, y+h), (0,255,0), 2)\n",
    "                boxes.append([x,y,w,h])\n",
    "                confidences.append(float(confidence))\n",
    "                class_Ids.append(class_id)\n",
    "                \n",
    "    indexes = cv2.dnn.NMSBoxes(boxes, confidences, 0.5, 0.4) #to reduce multiple box of same object\n",
    "    font = cv2.FONT_HERSHEY_PLAIN\n",
    "    colors = np.random.uniform(0, 255, size = (len(boxes),3))\n",
    "    number_of_boxes = len(boxes)\n",
    "    for i in range(number_of_boxes):\n",
    "        if i in indexes:\n",
    "            x,y,w,h = boxes[i]\n",
    "            label = str(classes[class_Ids[i]])\n",
    "            confi = str(round(confidences[i],2)*100)\n",
    "            color = colors[i]\n",
    "            cv2.rectangle(frame, (x,y), (x+w, y+h), color, 1)\n",
    "            cv2.rectangle(frame, (x,y), (x+w, y-15), color, -1)\n",
    "            cv2.putText(frame, label +\" \"+confi+\"%\", (x,y-2), font, 1, (255,255,255), 1)\n",
    "    \n",
    "    elapsed_time = time.time() - starting_time\n",
    "    fps = frame_id / elapsed_time\n",
    "    cv2.putText(frame, \"FPS: \" + str(fps), (5,15), font, 1, (255,255,255), 1)\n",
    "    cv2.imshow(\"Image\", frame)\n",
    "    key = cv2.waitKey(1)\n",
    "    if key == 27:\n",
    "        break\n",
    "    \n",
    "cap.release()\n",
    "cv2.destroyAllWindows()"
   ]
  },
  {
   "cell_type": "code",
   "execution_count": null,
   "id": "84ad8ce6",
   "metadata": {},
   "outputs": [],
   "source": []
  }
 ],
 "metadata": {
  "kernelspec": {
   "display_name": "Python 3",
   "language": "python",
   "name": "python3"
  },
  "language_info": {
   "codemirror_mode": {
    "name": "ipython",
    "version": 3
   },
   "file_extension": ".py",
   "mimetype": "text/x-python",
   "name": "python",
   "nbconvert_exporter": "python",
   "pygments_lexer": "ipython3",
   "version": "3.8.8"
  }
 },
 "nbformat": 4,
 "nbformat_minor": 5
}
